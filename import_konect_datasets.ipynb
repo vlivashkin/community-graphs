{
 "cells": [
  {
   "cell_type": "code",
   "execution_count": 36,
   "id": "initial_id",
   "metadata": {
    "collapsed": true,
    "ExecuteTime": {
     "end_time": "2024-01-05T13:15:58.675762Z",
     "start_time": "2024-01-05T13:15:58.459471Z"
    }
   },
   "outputs": [],
   "source": [
    "import networkx as nx\n",
    "import requests\n",
    "from bs4 import BeautifulSoup\n",
    "from tqdm.auto import tqdm\n",
    "import os"
   ]
  },
  {
   "cell_type": "markdown",
   "source": [
    "# Import KONECT datasets\n",
    "Download and convert to GML all the datasets used in [https://www.nature.com/articles/s41598-023-41476-9](https://www.nature.com/articles/s41598-023-41476-9):\n",
    "1. [Karate](http://konect.cc/networks/ucidata-zachary/)\n",
    "2. [Bombing (Train bombing)](http://konect.cc/networks/moreno_train/)\n",
    "3. [Iceland](http://konect.cc/networks/iceland/)\n",
    "4. [LesMis (Les Misérables)](http://konect.cc/networks/moreno_lesmis/)\n",
    "5. [Neurons (Caenorhabditis elegans (neural))](http://konect.cc/networks/dimacs10-celegansneural/)\n",
    "6. E.coli (no link!)\n",
    "7. [Netscience (Network Science)](http://konect.cc/networks/dimacs10-netscience/)\n",
    "8. [Infectious](http://konect.cc/networks/sociopatterns-infectious/)\n",
    "9. [Metabolic (Caenorhabditis elegans (metabolic))](http://konect.cc/networks/dimacs10-celegans_metabolic/)\n",
    "10. [US Air (US airports)](http://konect.cc/networks/opsahl-usairport/)\n",
    "11. [ASoIaF (A Song of Ice and Fire)](http://konect.cc/networks/asoiaf/)\n",
    "12. [Email (U. Rovira i Virgili)](http://konect.cc/networks/arenas-email/)\n",
    "13. [Bible](http://konect.cc/networks/moreno_names/)\n",
    "14. [Yeast](http://konect.cc/networks/moreno_propro/)\n",
    "15. [Vidal](http://konect.cc/networks/maayan-vidal/)\n",
    "16. [Household (Hamsterster households)](http://konect.cc/networks/petster-hamster-household/)\n",
    "17. [Friendship (Hamsterster friendships of friends?)](http://konect.cc/networks/petster-friendships-hamster/)\n",
    "18. [Hamster (Hamsterster full?)](http://konect.cc/networks/petster-hamster/)"
   ],
   "metadata": {
    "collapsed": false
   },
   "id": "480c9f79a3b0af50"
  },
  {
   "cell_type": "markdown",
   "source": [
    "## Step 1: Download all the datasets"
   ],
   "metadata": {
    "collapsed": false
   },
   "id": "1a5448e06f3a1177"
  },
  {
   "cell_type": "code",
   "outputs": [],
   "source": [
    "links = {\n",
    "    \"Karate\": \"http://konect.cc/networks/ucidata-zachary/\",\n",
    "    \"Bombing\": \"http://konect.cc/networks/moreno_train\",\n",
    "    \"Iceland\": \"http://konect.cc/networks/iceland\",\n",
    "    \"LesMis\": \"http://konect.cc/networks/moreno_lesmis\",\n",
    "    \"Neurons\": \"http://konect.cc/networks/dimacs10-celegansneural\",\n",
    "    \"Netscience\": \"http://konect.cc/networks/dimacs10-netscience\",\n",
    "    \"Infectious\": \"http://konect.cc/networks/sociopatterns-infectious\",\n",
    "    \"Metabolic\": \"http://konect.cc/networks/dimacs10-celegans_metabolic\",\n",
    "    \"US_Air\": \"http://konect.cc/networks/opsahl-usairport\",\n",
    "    \"ASoIaF\": \"http://konect.cc/networks/asoiaf\",\n",
    "    \"Email\": \"http://konect.cc/networks/arenas-email\",\n",
    "    \"Bible\": \"http://konect.cc/networks/moreno_names\",\n",
    "    \"Yeast\": \"http://konect.cc/networks/moreno_propro\",\n",
    "    \"Vidal\": \"http://konect.cc/networks/maayan-vidal\",\n",
    "    \"Household\": \"http://konect.cc/networks/petster-hamster-household\",\n",
    "    \"Friendship\": \"http://konect.cc/networks/petster-friendships-hamster\",\n",
    "    \"Hamster\": \"http://konect.cc/networks/petster-hamster\",\n",
    "}"
   ],
   "metadata": {
    "collapsed": false,
    "ExecuteTime": {
     "end_time": "2024-01-05T13:05:54.455307Z",
     "start_time": "2024-01-05T13:05:54.445105Z"
    }
   },
   "id": "742130b77922c698",
   "execution_count": 31
  },
  {
   "cell_type": "code",
   "outputs": [
    {
     "data": {
      "text/plain": "  0%|          | 0/17 [00:00<?, ?it/s]",
      "application/vnd.jupyter.widget-view+json": {
       "version_major": 2,
       "version_minor": 0,
       "model_id": "82bdbba6f55f4688a50487d218d39480"
      }
     },
     "metadata": {},
     "output_type": "display_data"
    }
   ],
   "source": [
    "for name, url in tqdm(links.items()):\n",
    "    response = requests.get(url)\n",
    "    soup = BeautifulSoup(response.text, 'html.parser')\n",
    "    dataset_link = soup.find(\"a\", string=\"Data as TSV\", href=True)[\"href\"].replace(\"../..\", \"http://konect.cc\")\n",
    "    \n",
    "    r = requests.get(dataset_link)\n",
    "    with open(f'./konect_graphs/{name}.tsv.tar.bz2', 'wb') as f:\n",
    "        f.write(r.content)\n",
    "    # break"
   ],
   "metadata": {
    "collapsed": false,
    "ExecuteTime": {
     "end_time": "2024-01-05T13:06:03.948494Z",
     "start_time": "2024-01-05T13:05:54.712905Z"
    }
   },
   "id": "7f8f0150da565bc3",
   "execution_count": 32
  },
  {
   "cell_type": "markdown",
   "source": [
    "## Step 2: Convert to GML"
   ],
   "metadata": {
    "collapsed": false
   },
   "id": "8c072713a8d3ae76"
  },
  {
   "cell_type": "code",
   "outputs": [
    {
     "name": "stdout",
     "output_type": "stream",
     "text": [
      "dimacs10-celegans_metabolic\n",
      "dimacs10-celegansneural\n",
      "asoiaf\n",
      "sociopatterns-infectious\n",
      "petster-hamster-household\n",
      "moreno_names\n",
      "maayan-vidal\n",
      "petster-hamster\n",
      "ucidata-zachary\n",
      "arenas-email\n",
      "moreno_propro\n",
      "dimacs10-netscience\n",
      "opsahl-usairport\n",
      "moreno_lesmis\n",
      "petster-friendships-hamster\n",
      "iceland\n",
      "moreno_train\n"
     ]
    }
   ],
   "source": [
    "for graph_name in [x for x in os.listdir(\"./konect_graphs\") if not x.startswith(\".\")]:\n",
    "    print(graph_name)\n",
    "    filepath = f\"./konect_graphs/{graph_name}/out.{graph_name}\"\n",
    "    with open(filepath) as f:\n",
    "        line = f.readlines()[3]\n",
    "        columns = max(len(line.split(\"\\t\")), len(line.split(\" \")))\n",
    "        if columns == 2:\n",
    "            data = tuple()\n",
    "        elif columns == 3:\n",
    "            data = ((\"attr1\", int), )\n",
    "        elif columns == 4:\n",
    "            data = ((\"attr1\", int), (\"attr2\", int))\n",
    "        else:\n",
    "            raise NotImplementedError(columns)\n",
    "            \n",
    "    G = nx.read_edgelist(filepath, comments=\"%\", data=data)\n",
    "    nx.write_gml(G, f'./gml_graphs/konect/{graph_name}.gml')\n",
    "    \n",
    "    Gcc = sorted(nx.connected_components(G), key=len, reverse=True)\n",
    "    G0 = G.subgraph(Gcc[0])\n",
    "    nx.write_gml(G, f'./gml_connected_subgraphs/konect/{graph_name}.gml')"
   ],
   "metadata": {
    "collapsed": false,
    "ExecuteTime": {
     "end_time": "2024-01-05T13:35:40.435157Z",
     "start_time": "2024-01-05T13:35:39.271608Z"
    }
   },
   "id": "ac4c5f788b31cf6e",
   "execution_count": 61
  },
  {
   "cell_type": "code",
   "outputs": [],
   "source": [],
   "metadata": {
    "collapsed": false,
    "ExecuteTime": {
     "end_time": "2024-01-05T13:30:56.665621Z",
     "start_time": "2024-01-05T13:30:56.649968Z"
    }
   },
   "id": "122d39325eb34da5",
   "execution_count": 55
  },
  {
   "cell_type": "code",
   "outputs": [],
   "source": [],
   "metadata": {
    "collapsed": false
   },
   "id": "284c3cf88137e602"
  }
 ],
 "metadata": {
  "kernelspec": {
   "display_name": "Python 3",
   "language": "python",
   "name": "python3"
  },
  "language_info": {
   "codemirror_mode": {
    "name": "ipython",
    "version": 2
   },
   "file_extension": ".py",
   "mimetype": "text/x-python",
   "name": "python",
   "nbconvert_exporter": "python",
   "pygments_lexer": "ipython2",
   "version": "2.7.6"
  }
 },
 "nbformat": 4,
 "nbformat_minor": 5
}
